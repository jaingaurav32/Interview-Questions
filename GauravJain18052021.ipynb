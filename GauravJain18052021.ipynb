{
  "nbformat": 4,
  "nbformat_minor": 0,
  "metadata": {
    "colab": {
      "name": "GauravJain18052021.ipynb",
      "provenance": []
    },
    "kernelspec": {
      "name": "python3",
      "display_name": "Python 3"
    },
    "language_info": {
      "name": "python"
    }
  },
  "cells": [
    {
      "cell_type": "code",
      "metadata": {
        "id": "sErJttBFdJrY"
      },
      "source": [
        "l1=[]"
      ],
      "execution_count": 1,
      "outputs": []
    },
    {
      "cell_type": "code",
      "metadata": {
        "id": "argxvq-ZdYtt"
      },
      "source": [
        "l1=[{\"Gender\": \"Male\", \"HeightCm\": 171, \"WeightKg\": 96 }, { \"Gender\": \"Male\", \"HeightCm\": 161, \"WeightKg\":\n",
        "85 }, { \"Gender\": \"Male\", \"HeightCm\": 180, \"WeightKg\": 77 }, { \"Gender\": \"Female\", \"HeightCm\": 166,\n",
        "\"WeightKg\": 62}, {\"Gender\": \"Female\", \"HeightCm\": 150, \"WeightKg\": 70}, {\"Gender\": \"Female\",\n",
        "\"HeightCm\": 167, \"WeightKg\": 82}]"
      ],
      "execution_count": 2,
      "outputs": []
    },
    {
      "cell_type": "code",
      "metadata": {
        "colab": {
          "base_uri": "https://localhost:8080/"
        },
        "id": "HyIass1Jdd4r",
        "outputId": "7074c179-a039-4539-a4f7-594cbba95f29"
      },
      "source": [
        "l1"
      ],
      "execution_count": 3,
      "outputs": [
        {
          "output_type": "execute_result",
          "data": {
            "text/plain": [
              "[{'Gender': 'Male', 'HeightCm': 171, 'WeightKg': 96},\n",
              " {'Gender': 'Male', 'HeightCm': 161, 'WeightKg': 85},\n",
              " {'Gender': 'Male', 'HeightCm': 180, 'WeightKg': 77},\n",
              " {'Gender': 'Female', 'HeightCm': 166, 'WeightKg': 62},\n",
              " {'Gender': 'Female', 'HeightCm': 150, 'WeightKg': 70},\n",
              " {'Gender': 'Female', 'HeightCm': 167, 'WeightKg': 82}]"
            ]
          },
          "metadata": {
            "tags": []
          },
          "execution_count": 3
        }
      ]
    },
    {
      "cell_type": "code",
      "metadata": {
        "id": "wtoNVv32dr-G"
      },
      "source": [
        "import json"
      ],
      "execution_count": 4,
      "outputs": []
    },
    {
      "cell_type": "code",
      "metadata": {
        "colab": {
          "base_uri": "https://localhost:8080/"
        },
        "id": "pEQJWDPRsk5Z",
        "outputId": "07a8a307-f864-4c3e-b876-d2387952b289"
      },
      "source": [
        "for i in l1:\n",
        "  m=i['WeightKg']\n",
        "  h=i['HeightCm']/100\n",
        "  BMI=m/(h*h)\n",
        "  bmi_dict={\"bmi\":BMI}\n",
        "  i.update(bmi_dict)\n",
        "  print(i)\n",
        "  if BMI<=18.4:\n",
        "    cat='Under weight'\n",
        "    hr='Malnutrition'\n",
        "  elif BMI>=18.5 and BMI<=24.9:\n",
        "    cat='Normal Weight'\n",
        "    hr='risk low'\n",
        "  elif BMI>=25 and BMI<=29.9:\n",
        "    cat='Over Weight'\n",
        "    hr='risk Enhanced'\n",
        "  elif BMI>=30 and BMI<=34.9:\n",
        "    cat='Moderately Obese'\n",
        "    hr='Medium risk'\n",
        "  elif BMI>=35 and BMI<=39.9:\n",
        "    cat='Severely Obese'\n",
        "    hr='High Risk'\n",
        "  else:\n",
        "    cat='very severely obese'\n",
        "    hr='very high risk'\n",
        "  cat_dict={\"category\":cat}\n",
        "  i.update(cat_dict)\n",
        "  hr_dict={\"health risk\":hr}\n",
        "  i.update(hr_dict)  "
      ],
      "execution_count": 6,
      "outputs": [
        {
          "output_type": "stream",
          "text": [
            "{'Gender': 'Male', 'HeightCm': 171, 'WeightKg': 96, 'bmi': 32.83061454806607, 'category': 'Moderately Obese', 'health risk': 'Medium risk'}\n",
            "{'Gender': 'Male', 'HeightCm': 161, 'WeightKg': 85, 'bmi': 32.79194475521777, 'category': 'Moderately Obese', 'health risk': 'Medium risk'}\n",
            "{'Gender': 'Male', 'HeightCm': 180, 'WeightKg': 77, 'bmi': 23.76543209876543, 'category': 'Normal Weight', 'health risk': 'risk low'}\n",
            "{'Gender': 'Female', 'HeightCm': 166, 'WeightKg': 62, 'bmi': 22.49963710262738, 'category': 'Normal Weight', 'health risk': 'risk low'}\n",
            "{'Gender': 'Female', 'HeightCm': 150, 'WeightKg': 70, 'bmi': 31.11111111111111, 'category': 'Moderately Obese', 'health risk': 'Medium risk'}\n",
            "{'Gender': 'Female', 'HeightCm': 167, 'WeightKg': 82, 'bmi': 29.402273297715947, 'category': 'Over Weight', 'health risk': 'risk Enhanced'}\n"
          ],
          "name": "stdout"
        }
      ]
    },
    {
      "cell_type": "code",
      "metadata": {
        "id": "-zR13qrrt8g3"
      },
      "source": [
        ""
      ],
      "execution_count": 5,
      "outputs": []
    }
  ]
}